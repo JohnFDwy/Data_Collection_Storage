{
 "cells": [
  {
   "cell_type": "markdown",
   "metadata": {},
   "source": [
    "# Project Introduction:\n",
    "\n",
    "This project uses 2 datasets of taxi ride information using information on the most popular taxi cab companies and the dropoff locations.\n",
    "\n",
    "**Objectives:**\n",
    "1. Import the data\n",
    "2. Prepare the data\n",
    "3. Analyze the data; answers specific questions within project instructions\n",
    "4. Test hypotheses"
   ]
  },
  {
   "cell_type": "code",
   "execution_count": 35,
   "metadata": {},
   "outputs": [],
   "source": [
    "import pandas as pd\n",
    "import matplotlib.pyplot as plt\n",
    "from scipy.stats import ttest_ind"
   ]
  },
  {
   "cell_type": "code",
   "execution_count": 2,
   "metadata": {},
   "outputs": [],
   "source": [
    "data_1= pd.read_csv('/datasets/project_sql_result_01.csv')"
   ]
  },
  {
   "cell_type": "code",
   "execution_count": 3,
   "metadata": {},
   "outputs": [],
   "source": [
    "data_2=pd.read_csv('/datasets/project_sql_result_04.csv')"
   ]
  },
  {
   "cell_type": "code",
   "execution_count": 4,
   "metadata": {
    "scrolled": true
   },
   "outputs": [
    {
     "data": {
      "text/html": [
       "<div>\n",
       "<style scoped>\n",
       "    .dataframe tbody tr th:only-of-type {\n",
       "        vertical-align: middle;\n",
       "    }\n",
       "\n",
       "    .dataframe tbody tr th {\n",
       "        vertical-align: top;\n",
       "    }\n",
       "\n",
       "    .dataframe thead th {\n",
       "        text-align: right;\n",
       "    }\n",
       "</style>\n",
       "<table border=\"1\" class=\"dataframe\">\n",
       "  <thead>\n",
       "    <tr style=\"text-align: right;\">\n",
       "      <th></th>\n",
       "      <th>company_name</th>\n",
       "      <th>trips_amount</th>\n",
       "    </tr>\n",
       "  </thead>\n",
       "  <tbody>\n",
       "    <tr>\n",
       "      <th>0</th>\n",
       "      <td>Flash Cab</td>\n",
       "      <td>19558</td>\n",
       "    </tr>\n",
       "    <tr>\n",
       "      <th>1</th>\n",
       "      <td>Taxi Affiliation Services</td>\n",
       "      <td>11422</td>\n",
       "    </tr>\n",
       "    <tr>\n",
       "      <th>2</th>\n",
       "      <td>Medallion Leasing</td>\n",
       "      <td>10367</td>\n",
       "    </tr>\n",
       "    <tr>\n",
       "      <th>3</th>\n",
       "      <td>Yellow Cab</td>\n",
       "      <td>9888</td>\n",
       "    </tr>\n",
       "    <tr>\n",
       "      <th>4</th>\n",
       "      <td>Taxi Affiliation Service Yellow</td>\n",
       "      <td>9299</td>\n",
       "    </tr>\n",
       "    <tr>\n",
       "      <th>...</th>\n",
       "      <td>...</td>\n",
       "      <td>...</td>\n",
       "    </tr>\n",
       "    <tr>\n",
       "      <th>59</th>\n",
       "      <td>4053 - 40193 Adwar H. Nikola</td>\n",
       "      <td>7</td>\n",
       "    </tr>\n",
       "    <tr>\n",
       "      <th>60</th>\n",
       "      <td>2733 - 74600 Benny Jona</td>\n",
       "      <td>7</td>\n",
       "    </tr>\n",
       "    <tr>\n",
       "      <th>61</th>\n",
       "      <td>5874 - 73628 Sergey Cab Corp.</td>\n",
       "      <td>5</td>\n",
       "    </tr>\n",
       "    <tr>\n",
       "      <th>62</th>\n",
       "      <td>2241 - 44667 - Felman Corp</td>\n",
       "      <td>3</td>\n",
       "    </tr>\n",
       "    <tr>\n",
       "      <th>63</th>\n",
       "      <td>3556 - 36214 RC Andrews Cab</td>\n",
       "      <td>2</td>\n",
       "    </tr>\n",
       "  </tbody>\n",
       "</table>\n",
       "<p>64 rows × 2 columns</p>\n",
       "</div>"
      ],
      "text/plain": [
       "                       company_name  trips_amount\n",
       "0                         Flash Cab         19558\n",
       "1         Taxi Affiliation Services         11422\n",
       "2                 Medallion Leasing         10367\n",
       "3                        Yellow Cab          9888\n",
       "4   Taxi Affiliation Service Yellow          9299\n",
       "..                              ...           ...\n",
       "59     4053 - 40193 Adwar H. Nikola             7\n",
       "60          2733 - 74600 Benny Jona             7\n",
       "61    5874 - 73628 Sergey Cab Corp.             5\n",
       "62       2241 - 44667 - Felman Corp             3\n",
       "63      3556 - 36214 RC Andrews Cab             2\n",
       "\n",
       "[64 rows x 2 columns]"
      ]
     },
     "execution_count": 4,
     "metadata": {},
     "output_type": "execute_result"
    }
   ],
   "source": [
    "data_1"
   ]
  },
  {
   "cell_type": "code",
   "execution_count": 5,
   "metadata": {
    "scrolled": true
   },
   "outputs": [
    {
     "data": {
      "text/plain": [
       "0"
      ]
     },
     "execution_count": 5,
     "metadata": {},
     "output_type": "execute_result"
    }
   ],
   "source": [
    "data_1.duplicated().sum()"
   ]
  },
  {
   "cell_type": "code",
   "execution_count": 6,
   "metadata": {},
   "outputs": [
    {
     "data": {
      "text/plain": [
       "company_name    0\n",
       "trips_amount    0\n",
       "dtype: int64"
      ]
     },
     "execution_count": 6,
     "metadata": {},
     "output_type": "execute_result"
    }
   ],
   "source": [
    "data_1.isnull().sum()"
   ]
  },
  {
   "cell_type": "code",
   "execution_count": 7,
   "metadata": {
    "scrolled": true
   },
   "outputs": [
    {
     "name": "stdout",
     "output_type": "stream",
     "text": [
      "<class 'pandas.core.frame.DataFrame'>\n",
      "RangeIndex: 64 entries, 0 to 63\n",
      "Data columns (total 2 columns):\n",
      " #   Column        Non-Null Count  Dtype \n",
      "---  ------        --------------  ----- \n",
      " 0   company_name  64 non-null     object\n",
      " 1   trips_amount  64 non-null     int64 \n",
      "dtypes: int64(1), object(1)\n",
      "memory usage: 1.1+ KB\n"
     ]
    }
   ],
   "source": [
    "data_1.info()"
   ]
  },
  {
   "cell_type": "code",
   "execution_count": 8,
   "metadata": {
    "scrolled": true
   },
   "outputs": [
    {
     "data": {
      "text/html": [
       "<div>\n",
       "<style scoped>\n",
       "    .dataframe tbody tr th:only-of-type {\n",
       "        vertical-align: middle;\n",
       "    }\n",
       "\n",
       "    .dataframe tbody tr th {\n",
       "        vertical-align: top;\n",
       "    }\n",
       "\n",
       "    .dataframe thead th {\n",
       "        text-align: right;\n",
       "    }\n",
       "</style>\n",
       "<table border=\"1\" class=\"dataframe\">\n",
       "  <thead>\n",
       "    <tr style=\"text-align: right;\">\n",
       "      <th></th>\n",
       "      <th>dropoff_location_name</th>\n",
       "      <th>average_trips</th>\n",
       "    </tr>\n",
       "  </thead>\n",
       "  <tbody>\n",
       "    <tr>\n",
       "      <th>0</th>\n",
       "      <td>Loop</td>\n",
       "      <td>10727.466667</td>\n",
       "    </tr>\n",
       "    <tr>\n",
       "      <th>1</th>\n",
       "      <td>River North</td>\n",
       "      <td>9523.666667</td>\n",
       "    </tr>\n",
       "    <tr>\n",
       "      <th>2</th>\n",
       "      <td>Streeterville</td>\n",
       "      <td>6664.666667</td>\n",
       "    </tr>\n",
       "    <tr>\n",
       "      <th>3</th>\n",
       "      <td>West Loop</td>\n",
       "      <td>5163.666667</td>\n",
       "    </tr>\n",
       "    <tr>\n",
       "      <th>4</th>\n",
       "      <td>O'Hare</td>\n",
       "      <td>2546.900000</td>\n",
       "    </tr>\n",
       "    <tr>\n",
       "      <th>...</th>\n",
       "      <td>...</td>\n",
       "      <td>...</td>\n",
       "    </tr>\n",
       "    <tr>\n",
       "      <th>89</th>\n",
       "      <td>Mount Greenwood</td>\n",
       "      <td>3.137931</td>\n",
       "    </tr>\n",
       "    <tr>\n",
       "      <th>90</th>\n",
       "      <td>Hegewisch</td>\n",
       "      <td>3.117647</td>\n",
       "    </tr>\n",
       "    <tr>\n",
       "      <th>91</th>\n",
       "      <td>Burnside</td>\n",
       "      <td>2.333333</td>\n",
       "    </tr>\n",
       "    <tr>\n",
       "      <th>92</th>\n",
       "      <td>East Side</td>\n",
       "      <td>1.961538</td>\n",
       "    </tr>\n",
       "    <tr>\n",
       "      <th>93</th>\n",
       "      <td>Riverdale</td>\n",
       "      <td>1.800000</td>\n",
       "    </tr>\n",
       "  </tbody>\n",
       "</table>\n",
       "<p>94 rows × 2 columns</p>\n",
       "</div>"
      ],
      "text/plain": [
       "   dropoff_location_name  average_trips\n",
       "0                   Loop   10727.466667\n",
       "1            River North    9523.666667\n",
       "2          Streeterville    6664.666667\n",
       "3              West Loop    5163.666667\n",
       "4                 O'Hare    2546.900000\n",
       "..                   ...            ...\n",
       "89       Mount Greenwood       3.137931\n",
       "90             Hegewisch       3.117647\n",
       "91              Burnside       2.333333\n",
       "92             East Side       1.961538\n",
       "93             Riverdale       1.800000\n",
       "\n",
       "[94 rows x 2 columns]"
      ]
     },
     "execution_count": 8,
     "metadata": {},
     "output_type": "execute_result"
    }
   ],
   "source": [
    "data_2"
   ]
  },
  {
   "cell_type": "code",
   "execution_count": 9,
   "metadata": {
    "scrolled": true
   },
   "outputs": [
    {
     "data": {
      "text/plain": [
       "0"
      ]
     },
     "execution_count": 9,
     "metadata": {},
     "output_type": "execute_result"
    }
   ],
   "source": [
    "data_2.duplicated().sum()"
   ]
  },
  {
   "cell_type": "code",
   "execution_count": 10,
   "metadata": {},
   "outputs": [
    {
     "data": {
      "text/plain": [
       "dropoff_location_name    0\n",
       "average_trips            0\n",
       "dtype: int64"
      ]
     },
     "execution_count": 10,
     "metadata": {},
     "output_type": "execute_result"
    }
   ],
   "source": [
    "data_2.isnull().sum()"
   ]
  },
  {
   "cell_type": "code",
   "execution_count": 11,
   "metadata": {},
   "outputs": [
    {
     "name": "stdout",
     "output_type": "stream",
     "text": [
      "<class 'pandas.core.frame.DataFrame'>\n",
      "RangeIndex: 94 entries, 0 to 93\n",
      "Data columns (total 2 columns):\n",
      " #   Column                 Non-Null Count  Dtype  \n",
      "---  ------                 --------------  -----  \n",
      " 0   dropoff_location_name  94 non-null     object \n",
      " 1   average_trips          94 non-null     float64\n",
      "dtypes: float64(1), object(1)\n",
      "memory usage: 1.6+ KB\n"
     ]
    }
   ],
   "source": [
    "data_2.info()"
   ]
  },
  {
   "cell_type": "code",
   "execution_count": 12,
   "metadata": {},
   "outputs": [],
   "source": [
    "data_1['trips_amount'] = data_1['trips_amount'].round().astype(int)"
   ]
  },
  {
   "cell_type": "code",
   "execution_count": 13,
   "metadata": {},
   "outputs": [],
   "source": [
    "data_2['average_trips']=data_2['average_trips'].round().astype(int)"
   ]
  },
  {
   "cell_type": "code",
   "execution_count": 14,
   "metadata": {},
   "outputs": [
    {
     "data": {
      "text/html": [
       "<div>\n",
       "<style scoped>\n",
       "    .dataframe tbody tr th:only-of-type {\n",
       "        vertical-align: middle;\n",
       "    }\n",
       "\n",
       "    .dataframe tbody tr th {\n",
       "        vertical-align: top;\n",
       "    }\n",
       "\n",
       "    .dataframe thead th {\n",
       "        text-align: right;\n",
       "    }\n",
       "</style>\n",
       "<table border=\"1\" class=\"dataframe\">\n",
       "  <thead>\n",
       "    <tr style=\"text-align: right;\">\n",
       "      <th></th>\n",
       "      <th>company_name</th>\n",
       "      <th>trips_amount</th>\n",
       "    </tr>\n",
       "  </thead>\n",
       "  <tbody>\n",
       "    <tr>\n",
       "      <th>0</th>\n",
       "      <td>Flash Cab</td>\n",
       "      <td>19558</td>\n",
       "    </tr>\n",
       "    <tr>\n",
       "      <th>1</th>\n",
       "      <td>Taxi Affiliation Services</td>\n",
       "      <td>11422</td>\n",
       "    </tr>\n",
       "    <tr>\n",
       "      <th>2</th>\n",
       "      <td>Medallion Leasing</td>\n",
       "      <td>10367</td>\n",
       "    </tr>\n",
       "    <tr>\n",
       "      <th>3</th>\n",
       "      <td>Yellow Cab</td>\n",
       "      <td>9888</td>\n",
       "    </tr>\n",
       "    <tr>\n",
       "      <th>4</th>\n",
       "      <td>Taxi Affiliation Service Yellow</td>\n",
       "      <td>9299</td>\n",
       "    </tr>\n",
       "  </tbody>\n",
       "</table>\n",
       "</div>"
      ],
      "text/plain": [
       "                      company_name  trips_amount\n",
       "0                        Flash Cab         19558\n",
       "1        Taxi Affiliation Services         11422\n",
       "2                Medallion Leasing         10367\n",
       "3                       Yellow Cab          9888\n",
       "4  Taxi Affiliation Service Yellow          9299"
      ]
     },
     "execution_count": 14,
     "metadata": {},
     "output_type": "execute_result"
    }
   ],
   "source": [
    "data_1.head()"
   ]
  },
  {
   "cell_type": "code",
   "execution_count": 15,
   "metadata": {},
   "outputs": [
    {
     "data": {
      "text/html": [
       "<div>\n",
       "<style scoped>\n",
       "    .dataframe tbody tr th:only-of-type {\n",
       "        vertical-align: middle;\n",
       "    }\n",
       "\n",
       "    .dataframe tbody tr th {\n",
       "        vertical-align: top;\n",
       "    }\n",
       "\n",
       "    .dataframe thead th {\n",
       "        text-align: right;\n",
       "    }\n",
       "</style>\n",
       "<table border=\"1\" class=\"dataframe\">\n",
       "  <thead>\n",
       "    <tr style=\"text-align: right;\">\n",
       "      <th></th>\n",
       "      <th>dropoff_location_name</th>\n",
       "      <th>average_trips</th>\n",
       "    </tr>\n",
       "  </thead>\n",
       "  <tbody>\n",
       "    <tr>\n",
       "      <th>0</th>\n",
       "      <td>Loop</td>\n",
       "      <td>10727</td>\n",
       "    </tr>\n",
       "    <tr>\n",
       "      <th>1</th>\n",
       "      <td>River North</td>\n",
       "      <td>9524</td>\n",
       "    </tr>\n",
       "    <tr>\n",
       "      <th>2</th>\n",
       "      <td>Streeterville</td>\n",
       "      <td>6665</td>\n",
       "    </tr>\n",
       "    <tr>\n",
       "      <th>3</th>\n",
       "      <td>West Loop</td>\n",
       "      <td>5164</td>\n",
       "    </tr>\n",
       "    <tr>\n",
       "      <th>4</th>\n",
       "      <td>O'Hare</td>\n",
       "      <td>2547</td>\n",
       "    </tr>\n",
       "  </tbody>\n",
       "</table>\n",
       "</div>"
      ],
      "text/plain": [
       "  dropoff_location_name  average_trips\n",
       "0                  Loop          10727\n",
       "1           River North           9524\n",
       "2         Streeterville           6665\n",
       "3             West Loop           5164\n",
       "4                O'Hare           2547"
      ]
     },
     "execution_count": 15,
     "metadata": {},
     "output_type": "execute_result"
    }
   ],
   "source": [
    "data_2.head()"
   ]
  },
  {
   "cell_type": "markdown",
   "metadata": {},
   "source": [
    "For our dataframes we have done the following:\n",
    "\n",
    "1. Imported the data\n",
    "2. Checked for duplicates\n",
    "3. Checked for missing values\n",
    "4. Converted data types for trips_amount and average_trips from floats to integers\n"
   ]
  },
  {
   "cell_type": "markdown",
   "metadata": {},
   "source": [
    "# Identify the top 10 drop off locations"
   ]
  },
  {
   "cell_type": "code",
   "execution_count": 16,
   "metadata": {},
   "outputs": [],
   "source": [
    "data_2_sorted = data_2.sort_values(by='average_trips', ascending=False)"
   ]
  },
  {
   "cell_type": "code",
   "execution_count": 17,
   "metadata": {
    "scrolled": true
   },
   "outputs": [],
   "source": [
    "top_10_locations = data_2_sorted.head(10)"
   ]
  },
  {
   "cell_type": "code",
   "execution_count": 42,
   "metadata": {},
   "outputs": [
    {
     "data": {
      "text/html": [
       "<div>\n",
       "<style scoped>\n",
       "    .dataframe tbody tr th:only-of-type {\n",
       "        vertical-align: middle;\n",
       "    }\n",
       "\n",
       "    .dataframe tbody tr th {\n",
       "        vertical-align: top;\n",
       "    }\n",
       "\n",
       "    .dataframe thead th {\n",
       "        text-align: right;\n",
       "    }\n",
       "</style>\n",
       "<table border=\"1\" class=\"dataframe\">\n",
       "  <thead>\n",
       "    <tr style=\"text-align: right;\">\n",
       "      <th></th>\n",
       "      <th>dropoff_location_name</th>\n",
       "      <th>average_trips</th>\n",
       "    </tr>\n",
       "  </thead>\n",
       "  <tbody>\n",
       "    <tr>\n",
       "      <th>0</th>\n",
       "      <td>Loop</td>\n",
       "      <td>10727</td>\n",
       "    </tr>\n",
       "    <tr>\n",
       "      <th>1</th>\n",
       "      <td>River North</td>\n",
       "      <td>9524</td>\n",
       "    </tr>\n",
       "    <tr>\n",
       "      <th>2</th>\n",
       "      <td>Streeterville</td>\n",
       "      <td>6665</td>\n",
       "    </tr>\n",
       "    <tr>\n",
       "      <th>3</th>\n",
       "      <td>West Loop</td>\n",
       "      <td>5164</td>\n",
       "    </tr>\n",
       "    <tr>\n",
       "      <th>4</th>\n",
       "      <td>O'Hare</td>\n",
       "      <td>2547</td>\n",
       "    </tr>\n",
       "    <tr>\n",
       "      <th>5</th>\n",
       "      <td>Lake View</td>\n",
       "      <td>2421</td>\n",
       "    </tr>\n",
       "    <tr>\n",
       "      <th>6</th>\n",
       "      <td>Grant Park</td>\n",
       "      <td>2069</td>\n",
       "    </tr>\n",
       "    <tr>\n",
       "      <th>7</th>\n",
       "      <td>Museum Campus</td>\n",
       "      <td>1510</td>\n",
       "    </tr>\n",
       "    <tr>\n",
       "      <th>8</th>\n",
       "      <td>Gold Coast</td>\n",
       "      <td>1364</td>\n",
       "    </tr>\n",
       "    <tr>\n",
       "      <th>9</th>\n",
       "      <td>Sheffield &amp; DePaul</td>\n",
       "      <td>1260</td>\n",
       "    </tr>\n",
       "  </tbody>\n",
       "</table>\n",
       "</div>"
      ],
      "text/plain": [
       "  dropoff_location_name  average_trips\n",
       "0                  Loop          10727\n",
       "1           River North           9524\n",
       "2         Streeterville           6665\n",
       "3             West Loop           5164\n",
       "4                O'Hare           2547\n",
       "5             Lake View           2421\n",
       "6            Grant Park           2069\n",
       "7         Museum Campus           1510\n",
       "8            Gold Coast           1364\n",
       "9    Sheffield & DePaul           1260"
      ]
     },
     "execution_count": 42,
     "metadata": {},
     "output_type": "execute_result"
    }
   ],
   "source": [
    "top_10_locations"
   ]
  },
  {
   "cell_type": "code",
   "execution_count": 46,
   "metadata": {
    "scrolled": true
   },
   "outputs": [
    {
     "data": {
      "text/plain": [
       "<AxesSubplot:title={'center':'Average Number of Trips per Location'}, xlabel='Dropoff Location', ylabel='Avg Number of Trips (Nov 2017)'>"
      ]
     },
     "execution_count": 46,
     "metadata": {},
     "output_type": "execute_result"
    },
    {
     "data": {
      "image/png": "[encoded data removed]",
      "text/plain": [
       "<Figure size 1200x600 with 1 Axes>"
      ]
     },
     "metadata": {},
     "output_type": "display_data"
    }
   ],
   "source": [
    "top_10_locations.plot(kind='bar',x='dropoff_location_name',legend=False, figsize=(12,6), xlabel= 'Dropoff Location', ylabel='Avg Number of Trips (Nov 2017)', title='Average Number of Trips per Location')\n"
   ]
  },
  {
   "cell_type": "markdown",
   "metadata": {},
   "source": [
    "In this section we can see the number of trips for the 10 most requested dropoff locations in November of 2017. The Loop neighborhood is the most requested location with over 10,000 trips ending there."
   ]
  },
  {
   "cell_type": "markdown",
   "metadata": {},
   "source": [
    "# Taxi Company Analysis"
   ]
  },
  {
   "cell_type": "code",
   "execution_count": 20,
   "metadata": {},
   "outputs": [],
   "source": [
    "data_1_sorted = data_1.sort_values(by='trips_amount', ascending=False)"
   ]
  },
  {
   "cell_type": "code",
   "execution_count": 21,
   "metadata": {},
   "outputs": [],
   "source": [
    "taxi_top_10 = data_1_sorted.head(10)"
   ]
  },
  {
   "cell_type": "code",
   "execution_count": 22,
   "metadata": {},
   "outputs": [
    {
     "data": {
      "text/html": [
       "<div>\n",
       "<style scoped>\n",
       "    .dataframe tbody tr th:only-of-type {\n",
       "        vertical-align: middle;\n",
       "    }\n",
       "\n",
       "    .dataframe tbody tr th {\n",
       "        vertical-align: top;\n",
       "    }\n",
       "\n",
       "    .dataframe thead th {\n",
       "        text-align: right;\n",
       "    }\n",
       "</style>\n",
       "<table border=\"1\" class=\"dataframe\">\n",
       "  <thead>\n",
       "    <tr style=\"text-align: right;\">\n",
       "      <th></th>\n",
       "      <th>company_name</th>\n",
       "      <th>trips_amount</th>\n",
       "    </tr>\n",
       "  </thead>\n",
       "  <tbody>\n",
       "    <tr>\n",
       "      <th>0</th>\n",
       "      <td>Flash Cab</td>\n",
       "      <td>19558</td>\n",
       "    </tr>\n",
       "    <tr>\n",
       "      <th>1</th>\n",
       "      <td>Taxi Affiliation Services</td>\n",
       "      <td>11422</td>\n",
       "    </tr>\n",
       "    <tr>\n",
       "      <th>2</th>\n",
       "      <td>Medallion Leasing</td>\n",
       "      <td>10367</td>\n",
       "    </tr>\n",
       "    <tr>\n",
       "      <th>3</th>\n",
       "      <td>Yellow Cab</td>\n",
       "      <td>9888</td>\n",
       "    </tr>\n",
       "    <tr>\n",
       "      <th>4</th>\n",
       "      <td>Taxi Affiliation Service Yellow</td>\n",
       "      <td>9299</td>\n",
       "    </tr>\n",
       "    <tr>\n",
       "      <th>5</th>\n",
       "      <td>Chicago Carriage Cab Corp</td>\n",
       "      <td>9181</td>\n",
       "    </tr>\n",
       "    <tr>\n",
       "      <th>6</th>\n",
       "      <td>City Service</td>\n",
       "      <td>8448</td>\n",
       "    </tr>\n",
       "    <tr>\n",
       "      <th>7</th>\n",
       "      <td>Sun Taxi</td>\n",
       "      <td>7701</td>\n",
       "    </tr>\n",
       "    <tr>\n",
       "      <th>8</th>\n",
       "      <td>Star North Management LLC</td>\n",
       "      <td>7455</td>\n",
       "    </tr>\n",
       "    <tr>\n",
       "      <th>9</th>\n",
       "      <td>Blue Ribbon Taxi Association Inc.</td>\n",
       "      <td>5953</td>\n",
       "    </tr>\n",
       "  </tbody>\n",
       "</table>\n",
       "</div>"
      ],
      "text/plain": [
       "                        company_name  trips_amount\n",
       "0                          Flash Cab         19558\n",
       "1          Taxi Affiliation Services         11422\n",
       "2                  Medallion Leasing         10367\n",
       "3                         Yellow Cab          9888\n",
       "4    Taxi Affiliation Service Yellow          9299\n",
       "5          Chicago Carriage Cab Corp          9181\n",
       "6                       City Service          8448\n",
       "7                           Sun Taxi          7701\n",
       "8          Star North Management LLC          7455\n",
       "9  Blue Ribbon Taxi Association Inc.          5953"
      ]
     },
     "execution_count": 22,
     "metadata": {},
     "output_type": "execute_result"
    }
   ],
   "source": [
    "taxi_top_10"
   ]
  },
  {
   "cell_type": "code",
   "execution_count": 48,
   "metadata": {},
   "outputs": [
    {
     "data": {
      "text/plain": [
       "<AxesSubplot:title={'center':'Number of Trips per Cab Service'}, xlabel='Taxi Company', ylabel='Number of Trips (Nov 2017)'>"
      ]
     },
     "execution_count": 48,
     "metadata": {},
     "output_type": "execute_result"
    },
    {
     "data": {
      "image/png": "[encoded data removed]",
      "text/plain": [
       "<Figure size 1200x600 with 1 Axes>"
      ]
     },
     "metadata": {},
     "output_type": "display_data"
    }
   ],
   "source": [
    "taxi_top_10.plot(kind='bar', x='company_name', figsize=(12,6), title='Number of Trips per Cab Service', legend=False, xlabel='Taxi Company', ylabel='Number of Trips (Nov 2017)')"
   ]
  },
  {
   "cell_type": "markdown",
   "metadata": {},
   "source": [
    "Here we see the top 10 performing Taxi Companies in November of 2017 with Flash Cab being the highest performing at over 19,000 trips completed.  "
   ]
  },
  {
   "cell_type": "markdown",
   "metadata": {},
   "source": [
    "# Testing Hypotheses"
   ]
  },
  {
   "cell_type": "markdown",
   "metadata": {},
   "source": [
    "In this section we will import a 3rd datafram containing pickup date and time, weather conditions, and duration of the trips in seconds. We will do the following:\n",
    "\n",
    "1. prepare the data\n",
    "2. form our hypotheses for the data\n",
    "3. test our hypotheses using our ttest method\n",
    "4. accept of reject our hypotheses"
   ]
  },
  {
   "cell_type": "code",
   "execution_count": 24,
   "metadata": {},
   "outputs": [],
   "source": [
    "data_3=pd.read_csv('/datasets/project_sql_result_07.csv')"
   ]
  },
  {
   "cell_type": "code",
   "execution_count": 25,
   "metadata": {},
   "outputs": [
    {
     "name": "stdout",
     "output_type": "stream",
     "text": [
      "<class 'pandas.core.frame.DataFrame'>\n",
      "RangeIndex: 1068 entries, 0 to 1067\n",
      "Data columns (total 3 columns):\n",
      " #   Column              Non-Null Count  Dtype  \n",
      "---  ------              --------------  -----  \n",
      " 0   start_ts            1068 non-null   object \n",
      " 1   weather_conditions  1068 non-null   object \n",
      " 2   duration_seconds    1068 non-null   float64\n",
      "dtypes: float64(1), object(2)\n",
      "memory usage: 25.2+ KB\n"
     ]
    }
   ],
   "source": [
    "data_3.info()"
   ]
  },
  {
   "cell_type": "code",
   "execution_count": 26,
   "metadata": {
    "scrolled": true
   },
   "outputs": [
    {
     "data": {
      "text/html": [
       "<div>\n",
       "<style scoped>\n",
       "    .dataframe tbody tr th:only-of-type {\n",
       "        vertical-align: middle;\n",
       "    }\n",
       "\n",
       "    .dataframe tbody tr th {\n",
       "        vertical-align: top;\n",
       "    }\n",
       "\n",
       "    .dataframe thead th {\n",
       "        text-align: right;\n",
       "    }\n",
       "</style>\n",
       "<table border=\"1\" class=\"dataframe\">\n",
       "  <thead>\n",
       "    <tr style=\"text-align: right;\">\n",
       "      <th></th>\n",
       "      <th>start_ts</th>\n",
       "      <th>weather_conditions</th>\n",
       "      <th>duration_seconds</th>\n",
       "    </tr>\n",
       "  </thead>\n",
       "  <tbody>\n",
       "    <tr>\n",
       "      <th>0</th>\n",
       "      <td>2017-11-25 16:00:00</td>\n",
       "      <td>Good</td>\n",
       "      <td>2410.0</td>\n",
       "    </tr>\n",
       "    <tr>\n",
       "      <th>1</th>\n",
       "      <td>2017-11-25 14:00:00</td>\n",
       "      <td>Good</td>\n",
       "      <td>1920.0</td>\n",
       "    </tr>\n",
       "    <tr>\n",
       "      <th>2</th>\n",
       "      <td>2017-11-25 12:00:00</td>\n",
       "      <td>Good</td>\n",
       "      <td>1543.0</td>\n",
       "    </tr>\n",
       "    <tr>\n",
       "      <th>3</th>\n",
       "      <td>2017-11-04 10:00:00</td>\n",
       "      <td>Good</td>\n",
       "      <td>2512.0</td>\n",
       "    </tr>\n",
       "    <tr>\n",
       "      <th>4</th>\n",
       "      <td>2017-11-11 07:00:00</td>\n",
       "      <td>Good</td>\n",
       "      <td>1440.0</td>\n",
       "    </tr>\n",
       "  </tbody>\n",
       "</table>\n",
       "</div>"
      ],
      "text/plain": [
       "              start_ts weather_conditions  duration_seconds\n",
       "0  2017-11-25 16:00:00               Good            2410.0\n",
       "1  2017-11-25 14:00:00               Good            1920.0\n",
       "2  2017-11-25 12:00:00               Good            1543.0\n",
       "3  2017-11-04 10:00:00               Good            2512.0\n",
       "4  2017-11-11 07:00:00               Good            1440.0"
      ]
     },
     "execution_count": 26,
     "metadata": {},
     "output_type": "execute_result"
    }
   ],
   "source": [
    "data_3.head()"
   ]
  },
  {
   "cell_type": "code",
   "execution_count": 27,
   "metadata": {
    "scrolled": true
   },
   "outputs": [
    {
     "data": {
      "text/plain": [
       "197"
      ]
     },
     "execution_count": 27,
     "metadata": {},
     "output_type": "execute_result"
    }
   ],
   "source": [
    "data_3.duplicated().sum()"
   ]
  },
  {
   "cell_type": "code",
   "execution_count": 28,
   "metadata": {},
   "outputs": [],
   "source": [
    "data_3 = data_3.drop_duplicates()"
   ]
  },
  {
   "cell_type": "code",
   "execution_count": 29,
   "metadata": {},
   "outputs": [],
   "source": [
    "data_3['start_ts']= pd.to_datetime(data_3['start_ts'])"
   ]
  },
  {
   "cell_type": "code",
   "execution_count": 30,
   "metadata": {},
   "outputs": [],
   "source": [
    "data_3['duration_seconds']=data_3['duration_seconds'].round().astype(int)"
   ]
  },
  {
   "cell_type": "code",
   "execution_count": 31,
   "metadata": {},
   "outputs": [
    {
     "data": {
      "text/html": [
       "<div>\n",
       "<style scoped>\n",
       "    .dataframe tbody tr th:only-of-type {\n",
       "        vertical-align: middle;\n",
       "    }\n",
       "\n",
       "    .dataframe tbody tr th {\n",
       "        vertical-align: top;\n",
       "    }\n",
       "\n",
       "    .dataframe thead th {\n",
       "        text-align: right;\n",
       "    }\n",
       "</style>\n",
       "<table border=\"1\" class=\"dataframe\">\n",
       "  <thead>\n",
       "    <tr style=\"text-align: right;\">\n",
       "      <th></th>\n",
       "      <th>start_ts</th>\n",
       "      <th>weather_conditions</th>\n",
       "      <th>duration_seconds</th>\n",
       "    </tr>\n",
       "  </thead>\n",
       "  <tbody>\n",
       "    <tr>\n",
       "      <th>0</th>\n",
       "      <td>2017-11-25 16:00:00</td>\n",
       "      <td>Good</td>\n",
       "      <td>2410</td>\n",
       "    </tr>\n",
       "    <tr>\n",
       "      <th>1</th>\n",
       "      <td>2017-11-25 14:00:00</td>\n",
       "      <td>Good</td>\n",
       "      <td>1920</td>\n",
       "    </tr>\n",
       "    <tr>\n",
       "      <th>2</th>\n",
       "      <td>2017-11-25 12:00:00</td>\n",
       "      <td>Good</td>\n",
       "      <td>1543</td>\n",
       "    </tr>\n",
       "    <tr>\n",
       "      <th>3</th>\n",
       "      <td>2017-11-04 10:00:00</td>\n",
       "      <td>Good</td>\n",
       "      <td>2512</td>\n",
       "    </tr>\n",
       "    <tr>\n",
       "      <th>4</th>\n",
       "      <td>2017-11-11 07:00:00</td>\n",
       "      <td>Good</td>\n",
       "      <td>1440</td>\n",
       "    </tr>\n",
       "  </tbody>\n",
       "</table>\n",
       "</div>"
      ],
      "text/plain": [
       "             start_ts weather_conditions  duration_seconds\n",
       "0 2017-11-25 16:00:00               Good              2410\n",
       "1 2017-11-25 14:00:00               Good              1920\n",
       "2 2017-11-25 12:00:00               Good              1543\n",
       "3 2017-11-04 10:00:00               Good              2512\n",
       "4 2017-11-11 07:00:00               Good              1440"
      ]
     },
     "execution_count": 31,
     "metadata": {},
     "output_type": "execute_result"
    }
   ],
   "source": [
    "data_3.head()"
   ]
  },
  {
   "cell_type": "code",
   "execution_count": 32,
   "metadata": {
    "scrolled": true
   },
   "outputs": [
    {
     "name": "stdout",
     "output_type": "stream",
     "text": [
      "<class 'pandas.core.frame.DataFrame'>\n",
      "Int64Index: 871 entries, 0 to 1067\n",
      "Data columns (total 3 columns):\n",
      " #   Column              Non-Null Count  Dtype         \n",
      "---  ------              --------------  -----         \n",
      " 0   start_ts            871 non-null    datetime64[ns]\n",
      " 1   weather_conditions  871 non-null    object        \n",
      " 2   duration_seconds    871 non-null    int64         \n",
      "dtypes: datetime64[ns](1), int64(1), object(1)\n",
      "memory usage: 27.2+ KB\n"
     ]
    }
   ],
   "source": [
    "data_3.info()"
   ]
  },
  {
   "cell_type": "markdown",
   "metadata": {},
   "source": [
    "In our import of the data, there we some changes that needed to be made to the dataframe.\n",
    "\n",
    "1. We dropped the duplicates (197 instances)\n",
    "2. start_ts was converted from object to datetime format\n",
    "3. duration_seconds was converted from object to integer"
   ]
  },
  {
   "cell_type": "markdown",
   "metadata": {},
   "source": [
    "## Our Hypothesis\n",
    "### Null: The average duration of rides from the Loop to O'Hare International Airport on rainy Saturdays is the same as on any other day\n",
    "### Alternative: The average duration of rides from the Loop to O'Hare International Airport is not the same on rainy Saturdays"
   ]
  },
  {
   "cell_type": "code",
   "execution_count": 33,
   "metadata": {},
   "outputs": [
    {
     "data": {
      "text/plain": [
       "array(['Good', 'Bad'], dtype=object)"
      ]
     },
     "execution_count": 33,
     "metadata": {},
     "output_type": "execute_result"
    }
   ],
   "source": [
    "data_3['weather_conditions'].unique()"
   ]
  },
  {
   "cell_type": "code",
   "execution_count": 36,
   "metadata": {},
   "outputs": [
    {
     "name": "stdout",
     "output_type": "stream",
     "text": [
      "Mean duration in good weather: 2032.253112033195\n",
      "Mean duration in bad weather: 2409.2297297297296\n",
      "T-statistic: -5.531968188074177\n",
      "P-value: 9.126383933880083e-08\n",
      "Reject the null hypothesis\n"
     ]
    }
   ],
   "source": [
    "good_weather = data_3[data_3['weather_conditions'] == 'Good']['duration_seconds'].dropna()\n",
    "bad_weather = data_3[data_3['weather_conditions'] == 'Bad']['duration_seconds'].dropna()\n",
    "\n",
    "# Compute the means\n",
    "mean_good_weather = good_weather.mean()\n",
    "mean_bad_weather = bad_weather.mean()\n",
    "\n",
    "print(f\"Mean duration in good weather: {mean_good_weather}\")\n",
    "print(f\"Mean duration in bad weather: {mean_bad_weather}\")\n",
    "\n",
    "# Perform a t-test for independent samples using raw data\n",
    "t_stat, p_value = ttest_ind(good_weather, bad_weather, equal_var=False)  \n",
    "\n",
    "print(f\"T-statistic: {t_stat}\")\n",
    "print(f\"P-value: {p_value}\")\n",
    "\n",
    "alpha = 0.05\n",
    "\n",
    "if p_value < alpha:\n",
    "    print(\"Reject the null hypothesis\")\n",
    "else:\n",
    "    print(\"Fail to reject the null hypothesis.\")"
   ]
  },
  {
   "cell_type": "markdown",
   "metadata": {},
   "source": [
    "Based on our hypothesis tests it looks like the pvalue is significant lower than our alpha threshold meaning that we reject our null hypothesis. This means that the average ride duration is different than the duration a ride will take on a rainy Saturday."
   ]
  },
  {
   "cell_type": "markdown",
   "metadata": {},
   "source": [
    "# General Conclusion\n",
    "\n",
    "Using our 3 datasets we were able to see the following:\n",
    "\n",
    "1. We imported and cleaned our 3 datasets, converted their datatypes and prepared them for analysis\n",
    "2. We viewed the top performing cab drop off locations with Loop being the most requested location\n",
    "3. We viewed the top performing cab companies with Flash Cab being the most popular\n",
    "4. We fomulated a hypothesis and tested said hypothesis using a ttest and found that there is  signficant difference in ride durations on rainy Saturdays based on our data. "
   ]
  },
  {
   "cell_type": "code",
   "execution_count": null,
   "metadata": {},
   "outputs": [],
   "source": []
  }
 ],
 "metadata": {
  "ExecuteTimeLog": [
   {
    "duration": 470,
    "start_time": "2024-07-03T00:35:02.503Z"
   },
   {
    "duration": 12,
    "start_time": "2024-07-03T00:35:35.178Z"
   },
   {
    "duration": 9,
    "start_time": "2024-07-03T00:36:07.079Z"
   },
   {
    "duration": 22,
    "start_time": "2024-07-03T00:36:16.140Z"
   },
   {
    "duration": 14,
    "start_time": "2024-07-03T00:36:25.465Z"
   },
   {
    "duration": 14,
    "start_time": "2024-07-03T00:45:07.170Z"
   },
   {
    "duration": 12,
    "start_time": "2024-07-03T00:45:19.764Z"
   },
   {
    "duration": 10,
    "start_time": "2024-07-03T00:46:45.352Z"
   },
   {
    "duration": 7,
    "start_time": "2024-07-03T00:46:45.913Z"
   },
   {
    "duration": 13,
    "start_time": "2024-07-03T00:46:46.263Z"
   },
   {
    "duration": 13,
    "start_time": "2024-07-03T00:46:46.856Z"
   },
   {
    "duration": 13,
    "start_time": "2024-07-03T00:47:10.696Z"
   },
   {
    "duration": 13,
    "start_time": "2024-07-03T00:47:23.594Z"
   },
   {
    "duration": 313,
    "start_time": "2024-07-03T15:12:23.277Z"
   },
   {
    "duration": 486,
    "start_time": "2024-07-03T15:12:32.101Z"
   },
   {
    "duration": 12,
    "start_time": "2024-07-03T15:12:32.590Z"
   },
   {
    "duration": 10,
    "start_time": "2024-07-03T15:12:32.610Z"
   },
   {
    "duration": 20,
    "start_time": "2024-07-03T15:12:32.623Z"
   },
   {
    "duration": 14,
    "start_time": "2024-07-03T15:12:32.647Z"
   },
   {
    "duration": 51,
    "start_time": "2024-07-03T15:12:32.664Z"
   },
   {
    "duration": 14,
    "start_time": "2024-07-03T15:12:32.718Z"
   },
   {
    "duration": 1190,
    "start_time": "2024-07-03T15:12:32.735Z"
   },
   {
    "duration": 5,
    "start_time": "2024-07-03T15:12:52.756Z"
   },
   {
    "duration": 5,
    "start_time": "2024-07-03T15:13:50.166Z"
   },
   {
    "duration": 9,
    "start_time": "2024-07-03T15:14:08.364Z"
   },
   {
    "duration": 8,
    "start_time": "2024-07-03T15:14:18.735Z"
   },
   {
    "duration": 16,
    "start_time": "2024-07-03T15:14:24.807Z"
   },
   {
    "duration": 7,
    "start_time": "2024-07-03T15:22:04.200Z"
   },
   {
    "duration": 25,
    "start_time": "2024-07-03T15:22:11.199Z"
   },
   {
    "duration": 9,
    "start_time": "2024-07-03T15:22:21.326Z"
   },
   {
    "duration": 11,
    "start_time": "2024-07-03T15:22:30.447Z"
   },
   {
    "duration": 7,
    "start_time": "2024-07-03T15:24:12.454Z"
   },
   {
    "duration": 8,
    "start_time": "2024-07-03T15:24:34.546Z"
   },
   {
    "duration": 8,
    "start_time": "2024-07-03T15:25:11.603Z"
   },
   {
    "duration": 9,
    "start_time": "2024-07-03T15:25:31.959Z"
   },
   {
    "duration": 4,
    "start_time": "2024-07-03T15:32:10.598Z"
   },
   {
    "duration": 11,
    "start_time": "2024-07-03T15:32:22.408Z"
   },
   {
    "duration": 3964,
    "start_time": "2024-07-03T15:33:53.334Z"
   },
   {
    "duration": 1611,
    "start_time": "2024-07-03T15:35:10.549Z"
   },
   {
    "duration": 4,
    "start_time": "2024-07-03T15:35:56.628Z"
   },
   {
    "duration": 331,
    "start_time": "2024-07-03T15:36:09.778Z"
   },
   {
    "duration": 10,
    "start_time": "2024-07-03T15:36:54.392Z"
   },
   {
    "duration": 5,
    "start_time": "2024-07-03T15:38:10.859Z"
   },
   {
    "duration": 308,
    "start_time": "2024-07-03T15:38:16.255Z"
   },
   {
    "duration": 302,
    "start_time": "2024-07-03T15:39:01.755Z"
   },
   {
    "duration": 418,
    "start_time": "2024-07-03T15:39:24.991Z"
   },
   {
    "duration": 317,
    "start_time": "2024-07-03T15:40:10.996Z"
   },
   {
    "duration": 5,
    "start_time": "2024-07-03T15:44:21.807Z"
   },
   {
    "duration": 3,
    "start_time": "2024-07-03T15:44:52.515Z"
   },
   {
    "duration": 11,
    "start_time": "2024-07-03T15:44:58.935Z"
   },
   {
    "duration": 354,
    "start_time": "2024-07-03T15:46:20.601Z"
   },
   {
    "duration": 380,
    "start_time": "2024-07-03T15:46:58.909Z"
   },
   {
    "duration": 13,
    "start_time": "2024-07-03T15:50:57.300Z"
   },
   {
    "duration": 14,
    "start_time": "2024-07-03T15:51:04.508Z"
   },
   {
    "duration": 13,
    "start_time": "2024-07-03T15:51:26.129Z"
   },
   {
    "duration": 8,
    "start_time": "2024-07-03T15:54:45.151Z"
   },
   {
    "duration": 4,
    "start_time": "2024-07-03T15:55:16.309Z"
   },
   {
    "duration": 12,
    "start_time": "2024-07-03T15:55:29.081Z"
   },
   {
    "duration": 6,
    "start_time": "2024-07-03T15:59:02.803Z"
   },
   {
    "duration": 11,
    "start_time": "2024-07-03T15:59:08.003Z"
   },
   {
    "duration": 15,
    "start_time": "2024-07-03T15:59:17.452Z"
   },
   {
    "duration": 8,
    "start_time": "2024-07-03T16:01:06.015Z"
   },
   {
    "duration": 6,
    "start_time": "2024-07-03T16:03:06.507Z"
   },
   {
    "duration": 8,
    "start_time": "2024-07-03T16:03:07.996Z"
   },
   {
    "duration": 4,
    "start_time": "2024-07-03T16:03:08.267Z"
   },
   {
    "duration": 11,
    "start_time": "2024-07-03T16:03:08.510Z"
   },
   {
    "duration": 14,
    "start_time": "2024-07-03T16:03:09.332Z"
   },
   {
    "duration": 54,
    "start_time": "2024-07-03T16:05:09.016Z"
   },
   {
    "duration": 6,
    "start_time": "2024-07-03T16:06:09.504Z"
   },
   {
    "duration": 8,
    "start_time": "2024-07-03T16:06:24.438Z"
   },
   {
    "duration": 463,
    "start_time": "2024-07-03T16:17:09.010Z"
   },
   {
    "duration": 15,
    "start_time": "2024-07-03T16:19:33.728Z"
   },
   {
    "duration": 77,
    "start_time": "2024-07-03T16:25:14.420Z"
   },
   {
    "duration": 4,
    "start_time": "2024-07-03T16:25:56.870Z"
   },
   {
    "duration": 14,
    "start_time": "2024-07-03T16:26:01.728Z"
   },
   {
    "duration": 13,
    "start_time": "2024-07-03T16:29:55.324Z"
   },
   {
    "duration": 13,
    "start_time": "2024-07-03T16:32:53.369Z"
   },
   {
    "duration": 1326,
    "start_time": "2024-07-03T18:25:48.055Z"
   },
   {
    "duration": 10,
    "start_time": "2024-07-03T18:25:49.386Z"
   },
   {
    "duration": 25,
    "start_time": "2024-07-03T18:25:49.400Z"
   },
   {
    "duration": 18,
    "start_time": "2024-07-03T18:25:49.428Z"
   },
   {
    "duration": 9,
    "start_time": "2024-07-03T18:25:49.452Z"
   },
   {
    "duration": 10,
    "start_time": "2024-07-03T18:25:49.465Z"
   },
   {
    "duration": 56,
    "start_time": "2024-07-03T18:25:49.479Z"
   },
   {
    "duration": 16,
    "start_time": "2024-07-03T18:25:49.540Z"
   },
   {
    "duration": 8,
    "start_time": "2024-07-03T18:25:49.558Z"
   },
   {
    "duration": 57,
    "start_time": "2024-07-03T18:25:49.570Z"
   },
   {
    "duration": 14,
    "start_time": "2024-07-03T18:25:49.631Z"
   },
   {
    "duration": 6,
    "start_time": "2024-07-03T18:25:49.648Z"
   },
   {
    "duration": 12,
    "start_time": "2024-07-03T18:25:49.658Z"
   },
   {
    "duration": 45,
    "start_time": "2024-07-03T18:25:49.682Z"
   },
   {
    "duration": 15,
    "start_time": "2024-07-03T18:25:49.734Z"
   },
   {
    "duration": 5,
    "start_time": "2024-07-03T18:25:49.758Z"
   },
   {
    "duration": 5,
    "start_time": "2024-07-03T18:25:49.766Z"
   },
   {
    "duration": 50,
    "start_time": "2024-07-03T18:25:49.775Z"
   },
   {
    "duration": 396,
    "start_time": "2024-07-03T18:25:49.830Z"
   },
   {
    "duration": 6,
    "start_time": "2024-07-03T18:25:50.229Z"
   },
   {
    "duration": 4,
    "start_time": "2024-07-03T18:25:50.239Z"
   },
   {
    "duration": 10,
    "start_time": "2024-07-03T18:25:50.247Z"
   },
   {
    "duration": 434,
    "start_time": "2024-07-03T18:25:50.262Z"
   },
   {
    "duration": 10,
    "start_time": "2024-07-03T18:25:50.699Z"
   },
   {
    "duration": 25,
    "start_time": "2024-07-03T18:25:50.712Z"
   },
   {
    "duration": 14,
    "start_time": "2024-07-03T18:25:50.740Z"
   },
   {
    "duration": 9,
    "start_time": "2024-07-03T18:25:50.758Z"
   },
   {
    "duration": 52,
    "start_time": "2024-07-03T18:25:50.770Z"
   },
   {
    "duration": 8,
    "start_time": "2024-07-03T18:25:50.826Z"
   },
   {
    "duration": 6,
    "start_time": "2024-07-03T18:25:50.837Z"
   },
   {
    "duration": 12,
    "start_time": "2024-07-03T18:25:50.846Z"
   },
   {
    "duration": 64,
    "start_time": "2024-07-03T18:25:50.862Z"
   },
   {
    "duration": 8,
    "start_time": "2024-07-03T18:25:50.930Z"
   },
   {
    "duration": 537,
    "start_time": "2024-07-03T18:25:50.943Z"
   },
   {
    "duration": 317,
    "start_time": "2024-07-04T14:28:21.415Z"
   },
   {
    "duration": 4841,
    "start_time": "2024-07-04T14:28:30.932Z"
   },
   {
    "duration": 12,
    "start_time": "2024-07-04T14:28:35.776Z"
   },
   {
    "duration": 9,
    "start_time": "2024-07-04T14:28:35.790Z"
   },
   {
    "duration": 30,
    "start_time": "2024-07-04T14:28:35.802Z"
   },
   {
    "duration": 7,
    "start_time": "2024-07-04T14:28:35.837Z"
   },
   {
    "duration": 8,
    "start_time": "2024-07-04T14:28:35.863Z"
   },
   {
    "duration": 16,
    "start_time": "2024-07-04T14:28:35.875Z"
   },
   {
    "duration": 13,
    "start_time": "2024-07-04T14:28:35.930Z"
   },
   {
    "duration": 8,
    "start_time": "2024-07-04T14:28:35.946Z"
   },
   {
    "duration": 9,
    "start_time": "2024-07-04T14:28:35.958Z"
   },
   {
    "duration": 13,
    "start_time": "2024-07-04T14:28:35.970Z"
   },
   {
    "duration": 46,
    "start_time": "2024-07-04T14:28:35.986Z"
   },
   {
    "duration": 5,
    "start_time": "2024-07-04T14:28:36.036Z"
   },
   {
    "duration": 10,
    "start_time": "2024-07-04T14:28:36.048Z"
   },
   {
    "duration": 9,
    "start_time": "2024-07-04T14:28:36.061Z"
   },
   {
    "duration": 4,
    "start_time": "2024-07-04T14:28:36.073Z"
   },
   {
    "duration": 4,
    "start_time": "2024-07-04T14:28:36.131Z"
   },
   {
    "duration": 10,
    "start_time": "2024-07-04T14:28:36.138Z"
   },
   {
    "duration": 369,
    "start_time": "2024-07-04T14:28:36.151Z"
   },
   {
    "duration": 10,
    "start_time": "2024-07-04T14:28:36.523Z"
   },
   {
    "duration": 4,
    "start_time": "2024-07-04T14:28:36.536Z"
   },
   {
    "duration": 10,
    "start_time": "2024-07-04T14:28:36.544Z"
   },
   {
    "duration": 425,
    "start_time": "2024-07-04T14:28:36.558Z"
   },
   {
    "duration": 21,
    "start_time": "2024-07-04T14:28:36.986Z"
   },
   {
    "duration": 14,
    "start_time": "2024-07-04T14:28:37.009Z"
   },
   {
    "duration": 10,
    "start_time": "2024-07-04T14:28:37.026Z"
   },
   {
    "duration": 10,
    "start_time": "2024-07-04T14:28:37.039Z"
   },
   {
    "duration": 6,
    "start_time": "2024-07-04T14:28:37.052Z"
   },
   {
    "duration": 7,
    "start_time": "2024-07-04T14:28:37.061Z"
   },
   {
    "duration": 6,
    "start_time": "2024-07-04T14:28:37.070Z"
   },
   {
    "duration": 59,
    "start_time": "2024-07-04T14:28:37.079Z"
   },
   {
    "duration": 15,
    "start_time": "2024-07-04T14:28:37.142Z"
   },
   {
    "duration": 7,
    "start_time": "2024-07-04T14:28:37.160Z"
   },
   {
    "duration": 470,
    "start_time": "2024-07-04T14:28:37.170Z"
   },
   {
    "duration": 5,
    "start_time": "2024-07-04T14:34:19.214Z"
   },
   {
    "duration": 12,
    "start_time": "2024-07-04T14:34:25.689Z"
   },
   {
    "duration": 357,
    "start_time": "2024-07-04T14:38:40.414Z"
   },
   {
    "duration": 8,
    "start_time": "2024-07-04T14:39:33.491Z"
   },
   {
    "duration": 6,
    "start_time": "2024-07-04T14:39:40.150Z"
   },
   {
    "duration": 81,
    "start_time": "2024-07-04T14:39:51.205Z"
   },
   {
    "duration": 326,
    "start_time": "2024-07-04T14:40:13.281Z"
   },
   {
    "duration": 12,
    "start_time": "2024-07-04T14:40:18.548Z"
   },
   {
    "duration": 336,
    "start_time": "2024-07-04T14:52:47.997Z"
   },
   {
    "duration": 1156,
    "start_time": "2024-07-04T14:52:59.392Z"
   },
   {
    "duration": 317,
    "start_time": "2024-07-04T14:53:08.908Z"
   },
   {
    "duration": 288,
    "start_time": "2024-07-04T14:54:44.900Z"
   },
   {
    "duration": 325,
    "start_time": "2024-07-04T14:55:04.481Z"
   },
   {
    "duration": 341,
    "start_time": "2024-07-04T14:55:42.828Z"
   }
  ],
  "kernelspec": {
   "display_name": "Python 3 (ipykernel)",
   "language": "python",
   "name": "python3"
  },
  "language_info": {
   "codemirror_mode": {
    "name": "ipython",
    "version": 3
   },
   "file_extension": ".py",
   "mimetype": "text/x-python",
   "name": "python",
   "nbconvert_exporter": "python",
   "pygments_lexer": "ipython3",
   "version": "3.9.19"
  },
  "toc": {
   "base_numbering": 1,
   "nav_menu": {},
   "number_sections": true,
   "sideBar": true,
   "skip_h1_title": true,
   "title_cell": "Table of Contents",
   "title_sidebar": "Contents",
   "toc_cell": false,
   "toc_position": {},
   "toc_section_display": true,
   "toc_window_display": false
  }
 },
 "nbformat": 4,
 "nbformat_minor": 2
}
